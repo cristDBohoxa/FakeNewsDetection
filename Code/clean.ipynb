{
 "cells": [
  {
   "cell_type": "markdown",
   "id": "95003ab0",
   "metadata": {},
   "source": [
    "## Fake news detection with AI algorithms"
   ]
  },
  {
   "cell_type": "markdown",
   "id": "46e2a409",
   "metadata": {},
   "source": [
    "## Part 1"
   ]
  },
  {
   "cell_type": "markdown",
   "id": "f678164e",
   "metadata": {},
   "source": [
    "#### Cleaning Data set"
   ]
  },
  {
   "cell_type": "markdown",
   "id": "83b01f2b",
   "metadata": {},
   "source": [
    "Proyecto para la elaboración de un código que reúna 4 técnicas de ML para la detección de noticias falsas."
   ]
  },
  {
   "cell_type": "markdown",
   "id": "3ac1d0ac",
   "metadata": {},
   "source": [
    "En esta primera parte nos enfocaremos en preparar la base de datos para, posteriormente en el segundo NoteBook implementar los algoritmos de AI."
   ]
  },
  {
   "cell_type": "code",
   "execution_count": 2,
   "id": "fd9c2c71",
   "metadata": {},
   "outputs": [],
   "source": [
    "#Read Libraries for the proyect\n",
    "\n",
    "import pandas as pd\n",
    "\n",
    "#EDA (Exploratory Data Analysis)\n",
    "import numpy as np\n",
    "import seaborn as sns\n",
    "import matplotlib.pyplot as plt\n",
    "\n",
    "#AI Models\n",
    "#from sklearn.model_selection import train_test_split\n",
    "#from sklearn.metrics import accuracy_score\n",
    "#from sklearn.metrics import classification_report\n",
    "\n",
    "#Read Strings\n",
    "import re\n",
    "import string"
   ]
  },
  {
   "cell_type": "code",
   "execution_count": 3,
   "id": "f1982f41",
   "metadata": {},
   "outputs": [
    {
     "data": {
      "text/html": [
       "<div>\n",
       "<style scoped>\n",
       "    .dataframe tbody tr th:only-of-type {\n",
       "        vertical-align: middle;\n",
       "    }\n",
       "\n",
       "    .dataframe tbody tr th {\n",
       "        vertical-align: top;\n",
       "    }\n",
       "\n",
       "    .dataframe thead th {\n",
       "        text-align: right;\n",
       "    }\n",
       "</style>\n",
       "<table border=\"1\" class=\"dataframe\">\n",
       "  <thead>\n",
       "    <tr style=\"text-align: right;\">\n",
       "      <th></th>\n",
       "      <th>title</th>\n",
       "      <th>text</th>\n",
       "      <th>subject</th>\n",
       "      <th>date</th>\n",
       "    </tr>\n",
       "  </thead>\n",
       "  <tbody>\n",
       "    <tr>\n",
       "      <th>0</th>\n",
       "      <td>Donald Trump Sends Out Embarrassing New Year’...</td>\n",
       "      <td>Donald Trump just couldn t wish all Americans ...</td>\n",
       "      <td>News</td>\n",
       "      <td>December 31, 2017</td>\n",
       "    </tr>\n",
       "    <tr>\n",
       "      <th>1</th>\n",
       "      <td>Drunk Bragging Trump Staffer Started Russian ...</td>\n",
       "      <td>House Intelligence Committee Chairman Devin Nu...</td>\n",
       "      <td>News</td>\n",
       "      <td>December 31, 2017</td>\n",
       "    </tr>\n",
       "    <tr>\n",
       "      <th>2</th>\n",
       "      <td>Sheriff David Clarke Becomes An Internet Joke...</td>\n",
       "      <td>On Friday, it was revealed that former Milwauk...</td>\n",
       "      <td>News</td>\n",
       "      <td>December 30, 2017</td>\n",
       "    </tr>\n",
       "    <tr>\n",
       "      <th>3</th>\n",
       "      <td>Trump Is So Obsessed He Even Has Obama’s Name...</td>\n",
       "      <td>On Christmas day, Donald Trump announced that ...</td>\n",
       "      <td>News</td>\n",
       "      <td>December 29, 2017</td>\n",
       "    </tr>\n",
       "    <tr>\n",
       "      <th>4</th>\n",
       "      <td>Pope Francis Just Called Out Donald Trump Dur...</td>\n",
       "      <td>Pope Francis used his annual Christmas Day mes...</td>\n",
       "      <td>News</td>\n",
       "      <td>December 25, 2017</td>\n",
       "    </tr>\n",
       "  </tbody>\n",
       "</table>\n",
       "</div>"
      ],
      "text/plain": [
       "                                               title  \\\n",
       "0   Donald Trump Sends Out Embarrassing New Year’...   \n",
       "1   Drunk Bragging Trump Staffer Started Russian ...   \n",
       "2   Sheriff David Clarke Becomes An Internet Joke...   \n",
       "3   Trump Is So Obsessed He Even Has Obama’s Name...   \n",
       "4   Pope Francis Just Called Out Donald Trump Dur...   \n",
       "\n",
       "                                                text subject  \\\n",
       "0  Donald Trump just couldn t wish all Americans ...    News   \n",
       "1  House Intelligence Committee Chairman Devin Nu...    News   \n",
       "2  On Friday, it was revealed that former Milwauk...    News   \n",
       "3  On Christmas day, Donald Trump announced that ...    News   \n",
       "4  Pope Francis used his annual Christmas Day mes...    News   \n",
       "\n",
       "                date  \n",
       "0  December 31, 2017  \n",
       "1  December 31, 2017  \n",
       "2  December 30, 2017  \n",
       "3  December 29, 2017  \n",
       "4  December 25, 2017  "
      ]
     },
     "execution_count": 3,
     "metadata": {},
     "output_type": "execute_result"
    }
   ],
   "source": [
    "#read Data set fake news\n",
    "df_fake = pd.read_csv('../Data/Fake/Fake.csv')\n",
    "df_fake.head()"
   ]
  },
  {
   "cell_type": "code",
   "execution_count": 4,
   "id": "c5211597",
   "metadata": {},
   "outputs": [
    {
     "data": {
      "text/html": [
       "<div>\n",
       "<style scoped>\n",
       "    .dataframe tbody tr th:only-of-type {\n",
       "        vertical-align: middle;\n",
       "    }\n",
       "\n",
       "    .dataframe tbody tr th {\n",
       "        vertical-align: top;\n",
       "    }\n",
       "\n",
       "    .dataframe thead th {\n",
       "        text-align: right;\n",
       "    }\n",
       "</style>\n",
       "<table border=\"1\" class=\"dataframe\">\n",
       "  <thead>\n",
       "    <tr style=\"text-align: right;\">\n",
       "      <th></th>\n",
       "      <th>title</th>\n",
       "      <th>text</th>\n",
       "      <th>subject</th>\n",
       "      <th>date</th>\n",
       "    </tr>\n",
       "  </thead>\n",
       "  <tbody>\n",
       "    <tr>\n",
       "      <th>0</th>\n",
       "      <td>As U.S. budget fight looms, Republicans flip t...</td>\n",
       "      <td>WASHINGTON (Reuters) - The head of a conservat...</td>\n",
       "      <td>politicsNews</td>\n",
       "      <td>December 31, 2017</td>\n",
       "    </tr>\n",
       "    <tr>\n",
       "      <th>1</th>\n",
       "      <td>U.S. military to accept transgender recruits o...</td>\n",
       "      <td>WASHINGTON (Reuters) - Transgender people will...</td>\n",
       "      <td>politicsNews</td>\n",
       "      <td>December 29, 2017</td>\n",
       "    </tr>\n",
       "    <tr>\n",
       "      <th>2</th>\n",
       "      <td>Senior U.S. Republican senator: 'Let Mr. Muell...</td>\n",
       "      <td>WASHINGTON (Reuters) - The special counsel inv...</td>\n",
       "      <td>politicsNews</td>\n",
       "      <td>December 31, 2017</td>\n",
       "    </tr>\n",
       "    <tr>\n",
       "      <th>3</th>\n",
       "      <td>FBI Russia probe helped by Australian diplomat...</td>\n",
       "      <td>WASHINGTON (Reuters) - Trump campaign adviser ...</td>\n",
       "      <td>politicsNews</td>\n",
       "      <td>December 30, 2017</td>\n",
       "    </tr>\n",
       "    <tr>\n",
       "      <th>4</th>\n",
       "      <td>Trump wants Postal Service to charge 'much mor...</td>\n",
       "      <td>SEATTLE/WASHINGTON (Reuters) - President Donal...</td>\n",
       "      <td>politicsNews</td>\n",
       "      <td>December 29, 2017</td>\n",
       "    </tr>\n",
       "  </tbody>\n",
       "</table>\n",
       "</div>"
      ],
      "text/plain": [
       "                                               title  \\\n",
       "0  As U.S. budget fight looms, Republicans flip t...   \n",
       "1  U.S. military to accept transgender recruits o...   \n",
       "2  Senior U.S. Republican senator: 'Let Mr. Muell...   \n",
       "3  FBI Russia probe helped by Australian diplomat...   \n",
       "4  Trump wants Postal Service to charge 'much mor...   \n",
       "\n",
       "                                                text       subject  \\\n",
       "0  WASHINGTON (Reuters) - The head of a conservat...  politicsNews   \n",
       "1  WASHINGTON (Reuters) - Transgender people will...  politicsNews   \n",
       "2  WASHINGTON (Reuters) - The special counsel inv...  politicsNews   \n",
       "3  WASHINGTON (Reuters) - Trump campaign adviser ...  politicsNews   \n",
       "4  SEATTLE/WASHINGTON (Reuters) - President Donal...  politicsNews   \n",
       "\n",
       "                 date  \n",
       "0  December 31, 2017   \n",
       "1  December 29, 2017   \n",
       "2  December 31, 2017   \n",
       "3  December 30, 2017   \n",
       "4  December 29, 2017   "
      ]
     },
     "execution_count": 4,
     "metadata": {},
     "output_type": "execute_result"
    }
   ],
   "source": [
    "#read Data set true news\n",
    "df_true = pd.read_csv('../Data/True/True.csv')\n",
    "df_true.head()"
   ]
  },
  {
   "cell_type": "markdown",
   "id": "5cf012fb",
   "metadata": {},
   "source": [
    "# Start Data Cleaning"
   ]
  },
  {
   "cell_type": "markdown",
   "id": "e21ef4c8",
   "metadata": {},
   "source": [
    "Por un lado, el DataSet tiene columnas innecesarias para los intereses del estudio. Por otro lado, hacen falta algunas columnas que aporten información relevante a los algoritmos de ML para su correcta clasificación. la idea es preparar la base de datos para la correcta implementación del los algoritmos."
   ]
  },
  {
   "cell_type": "code",
   "execution_count": 5,
   "id": "ac5fa65b",
   "metadata": {},
   "outputs": [],
   "source": [
    "#Crear una columna adicional para clasificar el tipo de noticia_fake=0, true=1\n",
    "df_true[\"Type\"] = 1\n",
    "df_fake[\"Type\"] = 0\n"
   ]
  },
  {
   "cell_type": "code",
   "execution_count": 6,
   "id": "f1f5d4c3",
   "metadata": {},
   "outputs": [
    {
     "data": {
      "text/plain": [
       "((21417, 5), (23481, 5))"
      ]
     },
     "execution_count": 6,
     "metadata": {},
     "output_type": "execute_result"
    }
   ],
   "source": [
    "#revisar que se creó la columna\n",
    "#df_true.head()\n",
    "\n",
    "#revisar la extensión del data frame y el número de columnas\n",
    "df_true.shape, df_fake.shape"
   ]
  },
  {
   "cell_type": "markdown",
   "id": "f162bf16",
   "metadata": {},
   "source": [
    "Para efectos de nuestro ejercicio, es importante revisar que no existan filas nulas, pues no son relevantes y para este caso se pueden eliminar."
   ]
  },
  {
   "cell_type": "code",
   "execution_count": 7,
   "id": "4d197346",
   "metadata": {},
   "outputs": [
    {
     "data": {
      "text/plain": [
       "0"
      ]
     },
     "execution_count": 7,
     "metadata": {},
     "output_type": "execute_result"
    }
   ],
   "source": [
    "#revisar si existen filas sin informacion (nulas)\n",
    "df_true[\"text\"].isnull().sum()\n",
    "#df_fake[\"text\"].isnull().sum()"
   ]
  },
  {
   "cell_type": "markdown",
   "id": "9dcbc5a4",
   "metadata": {},
   "source": [
    "Es importante remover algunas entradas para al final del ejercicio, probar la efectividad del algoritmo, para ellos vamos a retirar las ultimas 20 entradas al final de cada DataSet"
   ]
  },
  {
   "cell_type": "code",
   "execution_count": 8,
   "id": "6e8697f4",
   "metadata": {},
   "outputs": [],
   "source": [
    "#remove tail 20 entries of the dataset\n",
    "df_fakepr  =  df_fake.tail(20)\n",
    "for i in range(23480, 23460, -1):\n",
    "        df_fake.drop ([i], axis = 0, inplace = True)\n",
    "    \n",
    "    \n",
    "df_truepr = df_true.tail(20)\n",
    "for i in range(21416,21396,-1):\n",
    "    df_true.drop([i], axis = 0, inplace = True)"
   ]
  },
  {
   "cell_type": "code",
   "execution_count": 9,
   "id": "5fb4eab7",
   "metadata": {},
   "outputs": [],
   "source": [
    "#Otra manera seria partir el data frame de forma aleatoria por un porcentaje \n",
    "#50%\n",
    "#df_truepr.sample(frac=0.5, replace=True, random_state=1)\n",
    "#70%\n",
    "#df_truepr.sample(frac=0.7, replace=True, random_state=1)"
   ]
  },
  {
   "cell_type": "code",
   "execution_count": 10,
   "id": "e13edb15",
   "metadata": {},
   "outputs": [],
   "source": [
    "#en caso de necesitar una copia de respaldo de los fake and true test\n",
    "#df_truepr.to_csv(\"../Data/TrueTesting.csv\")\n",
    "#df_fakepr.to_csv(\"../Data/FakeTesting.csv\")"
   ]
  },
  {
   "cell_type": "markdown",
   "id": "043aca60",
   "metadata": {},
   "source": [
    "revisamos el tamaño de los data set luego de la reducción"
   ]
  },
  {
   "cell_type": "code",
   "execution_count": 11,
   "id": "713f6158",
   "metadata": {},
   "outputs": [
    {
     "data": {
      "text/plain": [
       "((21397, 5), (23461, 5))"
      ]
     },
     "execution_count": 11,
     "metadata": {},
     "output_type": "execute_result"
    }
   ],
   "source": [
    "df_true.shape, df_fake.shape"
   ]
  },
  {
   "cell_type": "code",
   "execution_count": 12,
   "id": "a6d342ac",
   "metadata": {},
   "outputs": [],
   "source": [
    "#union de los data frames de prueba\n",
    "df_testing = pd.concat([df_fakepr, df_truepr], axis = 0)\n",
    "#df_testing.shape\n",
    "df_testing.to_csv(\"../Data/testing.csv\")"
   ]
  },
  {
   "cell_type": "markdown",
   "id": "b1a9c72e",
   "metadata": {},
   "source": [
    "Ahora unimos los dos data sets de entrenamiento"
   ]
  },
  {
   "cell_type": "code",
   "execution_count": 13,
   "id": "ea7bf69c",
   "metadata": {},
   "outputs": [],
   "source": [
    "#union de los data sets de entrenamiento\n",
    "df_union = pd.concat([df_true, df_fake], axis = 0)"
   ]
  },
  {
   "cell_type": "code",
   "execution_count": 14,
   "id": "a685555d",
   "metadata": {},
   "outputs": [],
   "source": [
    "#eliminar columnas innecesarias\n",
    "df_news = df_union.drop ([\"title\", \"subject\", \"date\"], axis = 1)"
   ]
  },
  {
   "cell_type": "markdown",
   "id": "46431732",
   "metadata": {},
   "source": [
    "Luego de unir los data sets es conveniente revolver un poco las cosas allá dentro para que todo se vea más homogéneo y resetear el índice, así todo será indistinguible."
   ]
  },
  {
   "cell_type": "code",
   "execution_count": 15,
   "id": "02abdd15",
   "metadata": {},
   "outputs": [],
   "source": [
    "#mezclar homogeneamente el Dataset\n",
    "df_news = df_news.sample(frac = 1, replace = False, random_state = 1)"
   ]
  },
  {
   "cell_type": "code",
   "execution_count": 16,
   "id": "81649876",
   "metadata": {},
   "outputs": [
    {
     "data": {
      "text/plain": [
       "text    0\n",
       "Type    0\n",
       "dtype: int64"
      ]
     },
     "execution_count": 16,
     "metadata": {},
     "output_type": "execute_result"
    }
   ],
   "source": [
    "#revisar entradas nulas\n",
    "df_news.isnull().sum()"
   ]
  },
  {
   "cell_type": "code",
   "execution_count": 17,
   "id": "01d0e857",
   "metadata": {},
   "outputs": [],
   "source": [
    "#re-ordenar el indice\n",
    "df_news.reset_index(inplace = True)\n",
    "df_news.drop([\"index\"], axis = 1, inplace = True)"
   ]
  },
  {
   "cell_type": "code",
   "execution_count": 18,
   "id": "15bdcb56",
   "metadata": {},
   "outputs": [],
   "source": [
    "df_news.rename(columns = {\"text\":\"Text\"}, inplace = True)"
   ]
  },
  {
   "cell_type": "code",
   "execution_count": 19,
   "id": "d51ac729",
   "metadata": {},
   "outputs": [],
   "source": [
    "#guardar data frame para proseguir\n",
    "df_news.to_csv(\"../Data/news.csv\", index = False)"
   ]
  }
 ],
 "metadata": {
  "kernelspec": {
   "display_name": "Python 3 (ipykernel)",
   "language": "python",
   "name": "python3"
  },
  "language_info": {
   "codemirror_mode": {
    "name": "ipython",
    "version": 3
   },
   "file_extension": ".py",
   "mimetype": "text/x-python",
   "name": "python",
   "nbconvert_exporter": "python",
   "pygments_lexer": "ipython3",
   "version": "3.9.7"
  }
 },
 "nbformat": 4,
 "nbformat_minor": 5
}
