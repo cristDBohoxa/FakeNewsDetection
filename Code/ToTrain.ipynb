{
 "cells": [
  {
   "cell_type": "markdown",
   "id": "a3fb9e08",
   "metadata": {},
   "source": [
    "### Fake news detection with AI algorithms"
   ]
  },
  {
   "cell_type": "markdown",
   "id": "28e3339d",
   "metadata": {},
   "source": [
    "### Part 2"
   ]
  },
  {
   "cell_type": "markdown",
   "id": "ae2da75f",
   "metadata": {},
   "source": [
    "### Generate and Training IA model"
   ]
  },
  {
   "cell_type": "code",
   "execution_count": 3,
   "id": "814e34c0",
   "metadata": {},
   "outputs": [],
   "source": [
    "#Libraries\n",
    "#Read Libraries for the proyect\n",
    "import pandas as pd\n",
    "#EDA (Exploratory Data Analysis)\n",
    "import numpy as np\n",
    "import seaborn as sns\n",
    "import matplotlib.pyplot as plt\n",
    "#AI Models\n",
    "from sklearn.model_selection import train_test_split\n",
    "from sklearn.metrics import accuracy_score\n",
    "from sklearn.metrics import classification_report\n",
    "from sklearn.linear_model import LogisticRegression\n",
    "from sklearn.ensemble import GradientBoostingClassifier\n",
    "from sklearn.tree import DecisionTreeClassifier\n",
    "from sklearn.ensemble import RandomForestClassifier\n",
    "\n",
    "\n",
    "#Read Strings\n",
    "import re\n",
    "import string"
   ]
  },
  {
   "cell_type": "code",
   "execution_count": 4,
   "id": "6e63fed2",
   "metadata": {
    "scrolled": true
   },
   "outputs": [
    {
     "data": {
      "text/html": [
       "<div>\n",
       "<style scoped>\n",
       "    .dataframe tbody tr th:only-of-type {\n",
       "        vertical-align: middle;\n",
       "    }\n",
       "\n",
       "    .dataframe tbody tr th {\n",
       "        vertical-align: top;\n",
       "    }\n",
       "\n",
       "    .dataframe thead th {\n",
       "        text-align: right;\n",
       "    }\n",
       "</style>\n",
       "<table border=\"1\" class=\"dataframe\">\n",
       "  <thead>\n",
       "    <tr style=\"text-align: right;\">\n",
       "      <th></th>\n",
       "      <th>Text</th>\n",
       "      <th>Type</th>\n",
       "    </tr>\n",
       "  </thead>\n",
       "  <tbody>\n",
       "    <tr>\n",
       "      <th>0</th>\n",
       "      <td>WASHINGTON (Reuters) - Donald Trump on Monday ...</td>\n",
       "      <td>1</td>\n",
       "    </tr>\n",
       "    <tr>\n",
       "      <th>1</th>\n",
       "      <td>America is falling in love with Melania Trump....</td>\n",
       "      <td>0</td>\n",
       "    </tr>\n",
       "    <tr>\n",
       "      <th>2</th>\n",
       "      <td>BERNE (Reuters) - Neutral Switzerland is prepa...</td>\n",
       "      <td>1</td>\n",
       "    </tr>\n",
       "    <tr>\n",
       "      <th>3</th>\n",
       "      <td>A woman who was born in Nazi Germany says that...</td>\n",
       "      <td>0</td>\n",
       "    </tr>\n",
       "    <tr>\n",
       "      <th>4</th>\n",
       "      <td>At the very beginning of May, Trump s Departme...</td>\n",
       "      <td>0</td>\n",
       "    </tr>\n",
       "  </tbody>\n",
       "</table>\n",
       "</div>"
      ],
      "text/plain": [
       "                                                Text  Type\n",
       "0  WASHINGTON (Reuters) - Donald Trump on Monday ...     1\n",
       "1  America is falling in love with Melania Trump....     0\n",
       "2  BERNE (Reuters) - Neutral Switzerland is prepa...     1\n",
       "3  A woman who was born in Nazi Germany says that...     0\n",
       "4  At the very beginning of May, Trump s Departme...     0"
      ]
     },
     "execution_count": 4,
     "metadata": {},
     "output_type": "execute_result"
    }
   ],
   "source": [
    "#Read Data set news\n",
    "df_news = pd.read_csv('../Data/news.csv')\n",
    "#Clean column Unnamed\n",
    "df_news.drop([\"Unnamed: 0\"], axis = 1, inplace = True)\n",
    "df_news.head()"
   ]
  },
  {
   "cell_type": "code",
   "execution_count": null,
   "id": "6e17c884",
   "metadata": {},
   "outputs": [],
   "source": []
  },
  {
   "cell_type": "markdown",
   "id": "2219b107",
   "metadata": {},
   "source": [
    "### Crear un clasificador para el texto"
   ]
  },
  {
   "cell_type": "markdown",
   "id": "d6a38578",
   "metadata": {},
   "source": [
    "Es importante \"standarizar\" de una u otra manera la estructura del texto, por ello aplicamos un filtro que nos permita correjir ciertos aspectos de las cadenas."
   ]
  },
  {
   "cell_type": "code",
   "execution_count": 5,
   "id": "57f7d660",
   "metadata": {},
   "outputs": [],
   "source": [
    "#reset for text of the stings\n",
    "def words( text ):\n",
    "    text = text.lower()\n",
    "    text = re.sub('\\[.*?\\]', '', text)\n",
    "    text = re.sub(\"\\\\W\",\" \",text) \n",
    "    text = re.sub('https?://\\S+|www\\.\\S+', '', text)\n",
    "    text = re.sub('<.*?>+', '', text)\n",
    "    text = re.sub('[%s]' % re.escape(string.punctuation), '', text)\n",
    "    text = re.sub('\\n', '', text)\n",
    "    text = re.sub('\\w*\\d\\w*', '', text)    \n",
    "    return text"
   ]
  },
  {
   "cell_type": "code",
   "execution_count": 6,
   "id": "4b81e2c2",
   "metadata": {},
   "outputs": [],
   "source": [
    "#aplicar la función words al data frame\n",
    "df_news[\"Text\"] = df_news[\"Text\"].apply(words)"
   ]
  },
  {
   "cell_type": "markdown",
   "id": "bde0fdd2",
   "metadata": {},
   "source": [
    "Definimos la variable dependiente y la independiente"
   ]
  },
  {
   "cell_type": "code",
   "execution_count": 7,
   "id": "066b735e",
   "metadata": {},
   "outputs": [],
   "source": [
    "#variables\n",
    "x = df_news[\"Text\"]\n",
    "y = df_news[\"Type\"]"
   ]
  },
  {
   "cell_type": "markdown",
   "id": "ca81945f",
   "metadata": {},
   "source": [
    "Definir el espacio de entrenamiento"
   ]
  },
  {
   "cell_type": "code",
   "execution_count": 8,
   "id": "9849f3e2",
   "metadata": {},
   "outputs": [],
   "source": [
    "   #Train test (train_test_split es una funcion predefinida en Scikit y declarada en la cabecera mediante el argumento import se encarga de dividir\n",
    "    #el data set para el entrenamiento del modelo para este caso se reservara un 25% para evaluar el resultado mediante una variable llamada \n",
    "    #xv_test que sera la columna de noticias luego de vectorizarla.\n",
    "x_train, x_test, y_train, y_test = train_test_split(x, y, test_size = 0.25 )"
   ]
  },
  {
   "cell_type": "code",
   "execution_count": 9,
   "id": "97d5f931",
   "metadata": {},
   "outputs": [],
   "source": [
    "#tarea: Revisar overfiting y tiempo de aprendizaje"
   ]
  },
  {
   "cell_type": "markdown",
   "id": "a6bc8ded",
   "metadata": {},
   "source": [
    "Ahora Vamos a convertir las cadenas de texto en vectores por medio de Scikit"
   ]
  },
  {
   "cell_type": "code",
   "execution_count": 10,
   "id": "fe13d016",
   "metadata": {},
   "outputs": [],
   "source": [
    "from sklearn.feature_extraction.text import TfidfVectorizer\n",
    "\n",
    "vectorization = TfidfVectorizer()\n",
    "xv_train = vectorization.fit_transform(x_train)\n",
    "xv_test = vectorization.transform(x_test)"
   ]
  },
  {
   "cell_type": "code",
   "execution_count": null,
   "id": "1d815a7d",
   "metadata": {},
   "outputs": [],
   "source": []
  },
  {
   "cell_type": "markdown",
   "id": "bae79fb1",
   "metadata": {},
   "source": [
    "### Clasificador de Regresión Logistica "
   ]
  },
  {
   "cell_type": "markdown",
   "id": "bbd579c6",
   "metadata": {},
   "source": [
    "Ahora aplicamos una herramienta de regresión logistica para clasificar las noticias "
   ]
  },
  {
   "cell_type": "code",
   "execution_count": 11,
   "id": "95b3e9ab",
   "metadata": {},
   "outputs": [
    {
     "data": {
      "text/plain": [
       "LogisticRegression()"
      ]
     },
     "execution_count": 11,
     "metadata": {},
     "output_type": "execute_result"
    }
   ],
   "source": [
    "LoR = LogisticRegression()\n",
    "LoR.fit(xv_train, y_train) #Esta linea toma la vectorización efectuada a las cadenas de texto y usa la columna de 0 y 1 de Y_train para realizar el entrenamiento"
   ]
  },
  {
   "cell_type": "code",
   "execution_count": 12,
   "id": "d180af0c",
   "metadata": {},
   "outputs": [],
   "source": [
    "prediction_LoR = LoR.predict(xv_test) #esta linea introduce las noticias que se reservaron para la evaluación (test) y genera la predicción"
   ]
  },
  {
   "cell_type": "code",
   "execution_count": 13,
   "id": "2dfd227b",
   "metadata": {},
   "outputs": [
    {
     "data": {
      "text/plain": [
       "0.9861792242532322"
      ]
     },
     "execution_count": 13,
     "metadata": {},
     "output_type": "execute_result"
    }
   ],
   "source": [
    "LoR.score(xv_test, y_test) #arrojamos el accuracy estimado de la prediccion efectuada en la linea anterior"
   ]
  },
  {
   "cell_type": "code",
   "execution_count": 14,
   "id": "8a4d9da9",
   "metadata": {
    "scrolled": true
   },
   "outputs": [
    {
     "name": "stdout",
     "output_type": "stream",
     "text": [
      "              precision    recall  f1-score   support\n",
      "\n",
      "           0       0.99      0.98      0.99      5877\n",
      "           1       0.98      0.99      0.99      5338\n",
      "\n",
      "    accuracy                           0.99     11215\n",
      "   macro avg       0.99      0.99      0.99     11215\n",
      "weighted avg       0.99      0.99      0.99     11215\n",
      "\n"
     ]
    }
   ],
   "source": [
    "#Desempeño del modelo de regresión Logistica\n",
    "print(classification_report(y_test, prediction_LoR))"
   ]
  },
  {
   "cell_type": "markdown",
   "id": "a00c0e4d",
   "metadata": {},
   "source": [
    "Luego de aplicar el algoritmo de Regresión Logistica, vamos a implemetar otros y ver su desempeño, la lógica detrás de ls implementación es la misma... aprendizaje, testing, accuracy..."
   ]
  },
  {
   "cell_type": "code",
   "execution_count": null,
   "id": "a3fc1abc",
   "metadata": {},
   "outputs": [],
   "source": []
  },
  {
   "cell_type": "markdown",
   "id": "53c4dcf3",
   "metadata": {},
   "source": [
    "#### Gradient Boosting Classifier"
   ]
  },
  {
   "cell_type": "code",
   "execution_count": 15,
   "id": "72669f36",
   "metadata": {},
   "outputs": [
    {
     "data": {
      "text/plain": [
       "GradientBoostingClassifier(random_state=0)"
      ]
     },
     "execution_count": 15,
     "metadata": {},
     "output_type": "execute_result"
    }
   ],
   "source": [
    "GraBooCla = GradientBoostingClassifier(random_state=0)\n",
    "GraBooCla.fit(xv_train, y_train)"
   ]
  },
  {
   "cell_type": "code",
   "execution_count": 16,
   "id": "a81e611e",
   "metadata": {},
   "outputs": [],
   "source": [
    "pred_gbc = GraBooCla.predict(xv_test)"
   ]
  },
  {
   "cell_type": "code",
   "execution_count": 17,
   "id": "389b94aa",
   "metadata": {},
   "outputs": [
    {
     "data": {
      "text/plain": [
       "0.9948283548818546"
      ]
     },
     "execution_count": 17,
     "metadata": {},
     "output_type": "execute_result"
    }
   ],
   "source": [
    "GraBooCla.score(xv_test, y_test)"
   ]
  },
  {
   "cell_type": "code",
   "execution_count": 18,
   "id": "640700c9",
   "metadata": {
    "scrolled": true
   },
   "outputs": [
    {
     "name": "stdout",
     "output_type": "stream",
     "text": [
      "              precision    recall  f1-score   support\n",
      "\n",
      "           0       1.00      0.99      1.00      5877\n",
      "           1       0.99      1.00      0.99      5338\n",
      "\n",
      "    accuracy                           0.99     11215\n",
      "   macro avg       0.99      0.99      0.99     11215\n",
      "weighted avg       0.99      0.99      0.99     11215\n",
      "\n"
     ]
    }
   ],
   "source": [
    "print(classification_report(y_test, pred_gbc))"
   ]
  },
  {
   "cell_type": "code",
   "execution_count": null,
   "id": "e147d309",
   "metadata": {},
   "outputs": [],
   "source": []
  },
  {
   "cell_type": "markdown",
   "id": "3241f2ef",
   "metadata": {},
   "source": [
    "### Clasificador tipo Árbol de Decisiones"
   ]
  },
  {
   "cell_type": "code",
   "execution_count": 19,
   "id": "6c854e56",
   "metadata": {},
   "outputs": [
    {
     "data": {
      "text/plain": [
       "DecisionTreeClassifier()"
      ]
     },
     "execution_count": 19,
     "metadata": {},
     "output_type": "execute_result"
    }
   ],
   "source": [
    "ArD = DecisionTreeClassifier()\n",
    "ArD.fit(xv_train, y_train)"
   ]
  },
  {
   "cell_type": "code",
   "execution_count": 20,
   "id": "621b1ea5",
   "metadata": {},
   "outputs": [],
   "source": [
    "pred_ArD = ArD.predict(xv_test)"
   ]
  },
  {
   "cell_type": "code",
   "execution_count": 21,
   "id": "07a260d3",
   "metadata": {},
   "outputs": [
    {
     "data": {
      "text/plain": [
       "0.9946500222915737"
      ]
     },
     "execution_count": 21,
     "metadata": {},
     "output_type": "execute_result"
    }
   ],
   "source": [
    "ArD.score(xv_test, y_test)"
   ]
  },
  {
   "cell_type": "code",
   "execution_count": 22,
   "id": "2685cb5c",
   "metadata": {},
   "outputs": [
    {
     "name": "stdout",
     "output_type": "stream",
     "text": [
      "              precision    recall  f1-score   support\n",
      "\n",
      "           0       0.99      1.00      0.99      5877\n",
      "           1       1.00      0.99      0.99      5338\n",
      "\n",
      "    accuracy                           0.99     11215\n",
      "   macro avg       0.99      0.99      0.99     11215\n",
      "weighted avg       0.99      0.99      0.99     11215\n",
      "\n"
     ]
    }
   ],
   "source": [
    "print(classification_report(y_test, pred_ArD))"
   ]
  },
  {
   "cell_type": "code",
   "execution_count": null,
   "id": "feedc29e",
   "metadata": {},
   "outputs": [],
   "source": []
  },
  {
   "cell_type": "markdown",
   "id": "0b4c5f6d",
   "metadata": {},
   "source": [
    "### Clasificador Random Forest "
   ]
  },
  {
   "cell_type": "code",
   "execution_count": 23,
   "id": "30260f2e",
   "metadata": {},
   "outputs": [
    {
     "data": {
      "text/plain": [
       "RandomForestClassifier(random_state=0)"
      ]
     },
     "execution_count": 23,
     "metadata": {},
     "output_type": "execute_result"
    }
   ],
   "source": [
    "RFcl = RandomForestClassifier(random_state=0)\n",
    "RFcl.fit(xv_train, y_train)"
   ]
  },
  {
   "cell_type": "code",
   "execution_count": 24,
   "id": "933f0f35",
   "metadata": {},
   "outputs": [],
   "source": [
    "pred_RFcl = RFcl.predict(xv_test)"
   ]
  },
  {
   "cell_type": "code",
   "execution_count": 25,
   "id": "49eb43a2",
   "metadata": {},
   "outputs": [
    {
     "data": {
      "text/plain": [
       "0.9860008916629514"
      ]
     },
     "execution_count": 25,
     "metadata": {},
     "output_type": "execute_result"
    }
   ],
   "source": [
    "RFcl.score(xv_test, y_test)"
   ]
  },
  {
   "cell_type": "code",
   "execution_count": 26,
   "id": "ca2068e2",
   "metadata": {
    "scrolled": false
   },
   "outputs": [
    {
     "name": "stdout",
     "output_type": "stream",
     "text": [
      "              precision    recall  f1-score   support\n",
      "\n",
      "           0       0.99      0.99      0.99      5877\n",
      "           1       0.99      0.98      0.99      5338\n",
      "\n",
      "    accuracy                           0.99     11215\n",
      "   macro avg       0.99      0.99      0.99     11215\n",
      "weighted avg       0.99      0.99      0.99     11215\n",
      "\n"
     ]
    }
   ],
   "source": [
    "print(classification_report(y_test, pred_RFcl))"
   ]
  },
  {
   "cell_type": "code",
   "execution_count": null,
   "id": "2dbb13fe",
   "metadata": {},
   "outputs": [],
   "source": []
  },
  {
   "cell_type": "markdown",
   "id": "42da13d7",
   "metadata": {},
   "source": [
    "### Testeando el Modelo "
   ]
  },
  {
   "cell_type": "markdown",
   "id": "b7c2997e",
   "metadata": {},
   "source": [
    "Luego de tener los modelos entrenados, vamos a validar la herramienta que acabamos de crear por medio de una función que reciba como entrada una noticia, la valide, luego de ello la vectorice, a continuación, la clasifique mediante las 3 herramientas y finalmente arroje una clasificación para la entrada."
   ]
  },
  {
   "cell_type": "code",
   "execution_count": 27,
   "id": "076a0116",
   "metadata": {},
   "outputs": [],
   "source": [
    "testing_news = pd.DataFrame({\"Text\":[\" KILLED: Rancher and protest spokesman Robert  Lavoy  Finicum (Image Source: RT International)21st Century Wire says New eye witness testimony indicates that the FBI and other federal agencies were never fired upon, but have shot and killed leading protester, Robert  Lavoy  Finicum, and wounding one other in a elaborate operation that took place along a rural highway near Burns, Oregon.For 26 days since the protest and occupation began at the Malheur Wildlife Refuge outside of Burns, Oregon there were no one was hurt and there were no injuries. That all changed early Tuesday evening when the FBI and Oregon State Police raised the ante, bringing the 4 week standoff to a dramatic ending.As detailed in yesterday s report, according to 18 yr old passenger and eyewitness, Victoria Sharp, dozens of federal vehicles and armed agents had set-up a pre-positioned roadblocks along an isolated stretch of rural Highway 395 before intercepting two vehicles and firing upon one of them, killing rancher and protest spokesman, Robert  Lavoy  Finicum, from Chino Valley, Arizona, and wounding Ryan Bundy of Bunkerville, Nevada.A total of 8 persons were detained, 5 of whom were charged with conspiracy to impede federal officers and are waiting arraignment.21WIRE journalist Patrick Henningsen weighs in on the situation in Oregon and discusses its implications with news anchor Rory Suchet from RT International. Watch: UPDATE 1-28-2016 at 11:30PM ET: Due to public pressure and intense speculation about the events of Tuesday evening, and because of the YouTube recording of 18 yr old eye witness Victoria Sharp, the FBI has released the unedited aerial video footage from Tuesday evening s incident which took place along Highway 395 here. According to the official FBI statement:  We feel that it is necessary to show the whole thing unedited in the interest of transparency.  The FBI video entitled,  Complete, Unedited Video of Joint FBI and OSP Operation 01/26/2016 , does show the victim Lavoy Finicum exiting the truck awkwardly in at least two feet of snow, and he clearly does not  charge towards  the SWAT team, and his hands are clearly held high above his head as he exits his truck when confronted by a SWAT team, before being shot multiple times by marksmen and falling in the snow. Also, the scale and size of this operation is very evident by the footage, and the apprehension of the protesters was not the result of a mere  traffic stop  as it was wrongly characterized in multiple mainstream media reports. On its own, this FBI drone footage would appear to support previous government and media claims by CNN, Washington Post and others that the victim was indeed  reaching towards his waistband  which gave federal and state police justification to unleash deadly force. However, it is still not completely clear from this aerial footage whether or not Finicum was holstered (he is said to normally carry a gun on the right hip, but FBI are claiming he had a 9mm gun in his inside left breast pocket), but also whether or not he lowered his arms before, or after he was shot multiple times. For example, if Finicum had his hands in the air and was then was shot in the abdomen first, then any man s natural reaction would be to then lower his hand(s) and clutch the wound. Additionally, if any shots were fired, even in the vicinity, then confusion could have ensued which might have prompted Finicum to reach for his weapon. Either way, it is impossible to make any such a forensic determination without a corresponding audio track  which would help to determine if any shots were fired before Finicum s hand(s) could be seen lowering.WARNING: The following images depict violence and death which some readers may find disturbing. Watch: SEE MORE OREGON STANDOFF NEWS AT: 21st Century Wire Oregon Standoff Fil\"]})"
   ]
  },
  {
   "cell_type": "code",
   "execution_count": 28,
   "id": "90629196",
   "metadata": {},
   "outputs": [],
   "source": [
    "def output_lable(n):\n",
    "    if n == 0:\n",
    "        return \"Fake News\"\n",
    "    elif n == 1:\n",
    "        return \"True News\"\n",
    "    \n",
    "def manual_testing(news):\n",
    "    testing_news = {\"Text\":[news]}\n",
    "    new_def_test = pd.DataFrame(testing_news)\n",
    "    new_def_test[\"Text\"] = new_def_test[\"Text\"].apply(words) \n",
    "    new_x_test = new_def_test[\"Text\"]\n",
    "    new_xv_test = vectorization.transform(new_x_test)\n",
    "    prediction_LoR = LoR.predict(new_xv_test)\n",
    "    pred_ArD = ArD.predict(new_xv_test)\n",
    "    pred_gbc = GraBooCla.predict(new_xv_test)\n",
    "    pred_RFcl = RFcl.predict(new_xv_test)\n",
    "\n",
    "    return print(\"\\n\\nLR Prediction: {} \\nDT Prediction: {} \\nGBC Prediction: {} \\nRFC Prediction: {}\".format(output_lable(prediction_LoR[0]), output_lable(pred_ArD[0]), output_lable(pred_gbc[0]), output_lable(pred_RFcl[0])))"
   ]
  },
  {
   "cell_type": "code",
   "execution_count": null,
   "id": "f6401d1b",
   "metadata": {},
   "outputs": [],
   "source": [
    "#Ingrese a cualquier portal de noticias en ingles y copie una noticia política u económica  y péguela aquí. El clasificador le dirá si es falsa \n",
    "news = str(input())\n",
    "manual_testing(news)"
   ]
  },
  {
   "cell_type": "code",
   "execution_count": null,
   "id": "1fb6999f",
   "metadata": {},
   "outputs": [],
   "source": [
    "#Ingrese a cualquier portal de noticias en ingles y copie una noticia política u económica  y péguela aquí. El clasificador le dirá si es falsa\n",
    "news = str(input())\n",
    "manual_testing(news)"
   ]
  }
 ],
 "metadata": {
  "kernelspec": {
   "display_name": "Python 3 (ipykernel)",
   "language": "python",
   "name": "python3"
  },
  "language_info": {
   "codemirror_mode": {
    "name": "ipython",
    "version": 3
   },
   "file_extension": ".py",
   "mimetype": "text/x-python",
   "name": "python",
   "nbconvert_exporter": "python",
   "pygments_lexer": "ipython3",
   "version": "3.9.7"
  }
 },
 "nbformat": 4,
 "nbformat_minor": 5
}
